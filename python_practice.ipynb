{
 "metadata": {
  "language_info": {
   "codemirror_mode": {
    "name": "ipython",
    "version": 3
   },
   "file_extension": ".py",
   "mimetype": "text/x-python",
   "name": "python",
   "nbconvert_exporter": "python",
   "pygments_lexer": "ipython3",
   "version": "3.7.7-final"
  },
  "orig_nbformat": 2,
  "kernelspec": {
   "name": "python3",
   "display_name": "Python 3",
   "language": "python"
  }
 },
 "nbformat": 4,
 "nbformat_minor": 2,
 "cells": [
  {
   "cell_type": "code",
   "execution_count": 40,
   "metadata": {},
   "outputs": [
    {
     "output_type": "stream",
     "name": "stdout",
     "text": [
      "Hello World\n"
     ]
    }
   ],
   "source": [
    "print('Hello World')"
   ]
  },
  {
   "cell_type": "code",
   "execution_count": 45,
   "metadata": {},
   "outputs": [
    {
     "output_type": "stream",
     "name": "stdout",
     "text": [
      "My remaining value is: 47\nMy number of coins is: 1\nMy remaining value is: 22\nMy number of coins is: 2\nMy remaining value is: 12\nMy number of coins is: 3\nMy remaining value is: 2\nMy number of coins is: 4\nMy remaining value is: 1\nMy number of coins is: 5\nMy remaining value is: 0\nMy number of coins is: 6\n"
     ]
    },
    {
     "output_type": "execute_result",
     "data": {
      "text/plain": [
       "6"
      ]
     },
     "metadata": {},
     "execution_count": 45
    }
   ],
   "source": [
    "coins = [1,5,10,25]\n",
    "\n",
    "def coins_change(coins, value):\n",
    "    num_coins = 0\n",
    "    coins.sort(reverse = True)\n",
    "    remaining_value = value\n",
    "    for coin in coins:\n",
    "        while coin <= remaining_value:\n",
    "            remaining_value -= coin \n",
    "            num_coins += 1\n",
    "            print(f'My remaining value is: {remaining_value}')\n",
    "            print(f'My number of coins is: {num_coins}')\n",
    "    \n",
    "    return num_coins \n",
    "\n",
    "coins_change(coins, 72)"
   ]
  },
  {
   "cell_type": "code",
   "execution_count": null,
   "metadata": {},
   "outputs": [],
   "source": []
  }
 ]
}